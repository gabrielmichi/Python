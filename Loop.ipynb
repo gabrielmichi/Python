{
 "cells": [
  {
   "cell_type": "code",
   "execution_count": 3,
   "metadata": {},
   "outputs": [
    {
     "name": "stdout",
     "output_type": "stream",
     "text": [
      "Produto 1\n",
      "1 0\n",
      "1 1\n",
      "1 2\n",
      "1 3\n",
      "1 4\n",
      "1 5\n",
      "1 6\n",
      "1 7\n",
      "1 8\n",
      "1 9\n",
      "1 10\n",
      "Produto 2\n",
      "2 0\n",
      "2 1\n",
      "2 2\n",
      "2 3\n",
      "2 4\n",
      "2 5\n",
      "2 6\n",
      "2 7\n",
      "2 8\n",
      "2 9\n",
      "2 10\n",
      "Produto 3\n",
      "3 0\n",
      "3 1\n",
      "3 2\n",
      "3 3\n",
      "3 4\n",
      "3 5\n",
      "3 6\n",
      "3 7\n",
      "3 8\n",
      "3 9\n",
      "3 10\n",
      "Produto 4\n",
      "4 0\n",
      "4 1\n",
      "4 2\n",
      "4 3\n",
      "4 4\n",
      "4 5\n",
      "4 6\n",
      "4 7\n",
      "4 8\n",
      "4 9\n",
      "4 10\n",
      "Produto 5\n",
      "5 0\n",
      "5 1\n",
      "5 2\n",
      "5 3\n",
      "5 4\n",
      "5 5\n",
      "5 6\n",
      "5 7\n",
      "5 8\n",
      "5 9\n",
      "5 10\n"
     ]
    }
   ],
   "source": [
    "for numero1 in range(1,6):\n",
    "    print('Produto ' + str(numero1))\n",
    "    for numero2 in range(11):\n",
    "        print(numero1, numero2)"
   ]
  },
  {
   "cell_type": "code",
   "execution_count": 2,
   "metadata": {},
   "outputs": [
    {
     "name": "stdout",
     "output_type": "stream",
     "text": [
      "@@@@@@\n",
      "@@@@@@\n",
      "@@@@@@\n",
      "@@@@@@\n",
      "@@@@@@\n",
      "@@@@@@\n"
     ]
    }
   ],
   "source": [
    "linhas = 6\n",
    "colunas = 6\n",
    "simbolo = '@'\n",
    "\n",
    "for l in range(linhas):\n",
    "    for c in range(colunas):\n",
    "        print(simbolo, end='')\n",
    "    print()"
   ]
  },
  {
   "cell_type": "code",
   "execution_count": 7,
   "metadata": {},
   "outputs": [
    {
     "name": "stdout",
     "output_type": "stream",
     "text": [
      " G A B R I E L"
     ]
    }
   ],
   "source": [
    "palavra = 'GABRIEL'\n",
    "\n",
    "for spaco in palavra:\n",
    "    print(f' {spaco}' , end='')"
   ]
  },
  {
   "cell_type": "code",
   "execution_count": null,
   "metadata": {},
   "outputs": [],
   "source": [
    "#Criar promocao de um produto de R$100,00\n",
    "#Diminuindo o valor gradativamente\n",
    "\n",
    "valor = 100\n",
    "dia = 0\n",
    "while valor > 20:\n",
    "    dia += 1\n",
    "    print(f' No dia {dia} o produto será vendido por {valor}')\n",
    "    valor -= 5"
   ]
  },
  {
   "cell_type": "code",
   "execution_count": null,
   "metadata": {},
   "outputs": [],
   "source": [
    "#Publicar um produto com comissão de 10% se for acima de R$20\n",
    "valor = int(input('Digite o valor do seu Produto: '))\n",
    "\n",
    "while valor > 20:\n",
    "    valor = (valor * 0.10) + valor\n",
    "    print(f'O valor final do seu produto será de R${valor}')\n",
    "    break"
   ]
  },
  {
   "cell_type": "code",
   "execution_count": null,
   "metadata": {},
   "outputs": [],
   "source": []
  }
 ],
 "metadata": {
  "kernelspec": {
   "display_name": "Python 3",
   "language": "python",
   "name": "python3"
  },
  "language_info": {
   "codemirror_mode": {
    "name": "ipython",
    "version": 3
   },
   "file_extension": ".py",
   "mimetype": "text/x-python",
   "name": "python",
   "nbconvert_exporter": "python",
   "pygments_lexer": "ipython3",
   "version": "3.7.4"
  }
 },
 "nbformat": 4,
 "nbformat_minor": 4
}
